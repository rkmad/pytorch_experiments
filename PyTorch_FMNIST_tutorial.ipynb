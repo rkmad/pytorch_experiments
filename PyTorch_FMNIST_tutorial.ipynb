{
  "nbformat": 4,
  "nbformat_minor": 0,
  "metadata": {
    "colab": {
      "provenance": [],
      "include_colab_link": true
    },
    "language_info": {
      "codemirror_mode": {
        "name": "ipython",
        "version": 3
      },
      "file_extension": ".py",
      "mimetype": "text/x-python",
      "name": "python",
      "nbconvert_exporter": "python",
      "pygments_lexer": "ipython3",
      "version": "3.6.8"
    },
    "kernelspec": {
      "name": "python3",
      "display_name": "Python 3"
    },
    "widgets": {
      "application/vnd.jupyter.widget-state+json": {
        "e26fc83fb5fc4043a41ffc5a70321701": {
          "model_module": "@jupyter-widgets/controls",
          "model_name": "HBoxModel",
          "model_module_version": "1.5.0",
          "state": {
            "_dom_classes": [],
            "_model_module": "@jupyter-widgets/controls",
            "_model_module_version": "1.5.0",
            "_model_name": "HBoxModel",
            "_view_count": null,
            "_view_module": "@jupyter-widgets/controls",
            "_view_module_version": "1.5.0",
            "_view_name": "HBoxView",
            "box_style": "",
            "children": [
              "IPY_MODEL_beef67e7ee7c40a5a91708b2b0d8ff8d",
              "IPY_MODEL_a671d530a61e48daadb468810b286973",
              "IPY_MODEL_2e6b8514f10448bbae1fdb7a389c726d"
            ],
            "layout": "IPY_MODEL_55aa4dc58fca4d22b3d5c65c90877ff5"
          }
        },
        "beef67e7ee7c40a5a91708b2b0d8ff8d": {
          "model_module": "@jupyter-widgets/controls",
          "model_name": "HTMLModel",
          "model_module_version": "1.5.0",
          "state": {
            "_dom_classes": [],
            "_model_module": "@jupyter-widgets/controls",
            "_model_module_version": "1.5.0",
            "_model_name": "HTMLModel",
            "_view_count": null,
            "_view_module": "@jupyter-widgets/controls",
            "_view_module_version": "1.5.0",
            "_view_name": "HTMLView",
            "description": "",
            "description_tooltip": null,
            "layout": "IPY_MODEL_6a9a9e13f9c545a2a6871981aacdcb6e",
            "placeholder": "​",
            "style": "IPY_MODEL_5bbc2c018c6b4f3ba7413fd445af5d62",
            "value": "100%"
          }
        },
        "a671d530a61e48daadb468810b286973": {
          "model_module": "@jupyter-widgets/controls",
          "model_name": "FloatProgressModel",
          "model_module_version": "1.5.0",
          "state": {
            "_dom_classes": [],
            "_model_module": "@jupyter-widgets/controls",
            "_model_module_version": "1.5.0",
            "_model_name": "FloatProgressModel",
            "_view_count": null,
            "_view_module": "@jupyter-widgets/controls",
            "_view_module_version": "1.5.0",
            "_view_name": "ProgressView",
            "bar_style": "success",
            "description": "",
            "description_tooltip": null,
            "layout": "IPY_MODEL_e5c8deee0391486a93cb723295030b52",
            "max": 26421880,
            "min": 0,
            "orientation": "horizontal",
            "style": "IPY_MODEL_c4688b70c87447cc87188b441a2a8dd6",
            "value": 26421880
          }
        },
        "2e6b8514f10448bbae1fdb7a389c726d": {
          "model_module": "@jupyter-widgets/controls",
          "model_name": "HTMLModel",
          "model_module_version": "1.5.0",
          "state": {
            "_dom_classes": [],
            "_model_module": "@jupyter-widgets/controls",
            "_model_module_version": "1.5.0",
            "_model_name": "HTMLModel",
            "_view_count": null,
            "_view_module": "@jupyter-widgets/controls",
            "_view_module_version": "1.5.0",
            "_view_name": "HTMLView",
            "description": "",
            "description_tooltip": null,
            "layout": "IPY_MODEL_fdd5590b9d1640e58098ce2d22076e63",
            "placeholder": "​",
            "style": "IPY_MODEL_208e0536ed2c492b8908bbc7ecb66367",
            "value": " 26421880/26421880 [00:01&lt;00:00, 22170328.42it/s]"
          }
        },
        "55aa4dc58fca4d22b3d5c65c90877ff5": {
          "model_module": "@jupyter-widgets/base",
          "model_name": "LayoutModel",
          "model_module_version": "1.2.0",
          "state": {
            "_model_module": "@jupyter-widgets/base",
            "_model_module_version": "1.2.0",
            "_model_name": "LayoutModel",
            "_view_count": null,
            "_view_module": "@jupyter-widgets/base",
            "_view_module_version": "1.2.0",
            "_view_name": "LayoutView",
            "align_content": null,
            "align_items": null,
            "align_self": null,
            "border": null,
            "bottom": null,
            "display": null,
            "flex": null,
            "flex_flow": null,
            "grid_area": null,
            "grid_auto_columns": null,
            "grid_auto_flow": null,
            "grid_auto_rows": null,
            "grid_column": null,
            "grid_gap": null,
            "grid_row": null,
            "grid_template_areas": null,
            "grid_template_columns": null,
            "grid_template_rows": null,
            "height": null,
            "justify_content": null,
            "justify_items": null,
            "left": null,
            "margin": null,
            "max_height": null,
            "max_width": null,
            "min_height": null,
            "min_width": null,
            "object_fit": null,
            "object_position": null,
            "order": null,
            "overflow": null,
            "overflow_x": null,
            "overflow_y": null,
            "padding": null,
            "right": null,
            "top": null,
            "visibility": null,
            "width": null
          }
        },
        "6a9a9e13f9c545a2a6871981aacdcb6e": {
          "model_module": "@jupyter-widgets/base",
          "model_name": "LayoutModel",
          "model_module_version": "1.2.0",
          "state": {
            "_model_module": "@jupyter-widgets/base",
            "_model_module_version": "1.2.0",
            "_model_name": "LayoutModel",
            "_view_count": null,
            "_view_module": "@jupyter-widgets/base",
            "_view_module_version": "1.2.0",
            "_view_name": "LayoutView",
            "align_content": null,
            "align_items": null,
            "align_self": null,
            "border": null,
            "bottom": null,
            "display": null,
            "flex": null,
            "flex_flow": null,
            "grid_area": null,
            "grid_auto_columns": null,
            "grid_auto_flow": null,
            "grid_auto_rows": null,
            "grid_column": null,
            "grid_gap": null,
            "grid_row": null,
            "grid_template_areas": null,
            "grid_template_columns": null,
            "grid_template_rows": null,
            "height": null,
            "justify_content": null,
            "justify_items": null,
            "left": null,
            "margin": null,
            "max_height": null,
            "max_width": null,
            "min_height": null,
            "min_width": null,
            "object_fit": null,
            "object_position": null,
            "order": null,
            "overflow": null,
            "overflow_x": null,
            "overflow_y": null,
            "padding": null,
            "right": null,
            "top": null,
            "visibility": null,
            "width": null
          }
        },
        "5bbc2c018c6b4f3ba7413fd445af5d62": {
          "model_module": "@jupyter-widgets/controls",
          "model_name": "DescriptionStyleModel",
          "model_module_version": "1.5.0",
          "state": {
            "_model_module": "@jupyter-widgets/controls",
            "_model_module_version": "1.5.0",
            "_model_name": "DescriptionStyleModel",
            "_view_count": null,
            "_view_module": "@jupyter-widgets/base",
            "_view_module_version": "1.2.0",
            "_view_name": "StyleView",
            "description_width": ""
          }
        },
        "e5c8deee0391486a93cb723295030b52": {
          "model_module": "@jupyter-widgets/base",
          "model_name": "LayoutModel",
          "model_module_version": "1.2.0",
          "state": {
            "_model_module": "@jupyter-widgets/base",
            "_model_module_version": "1.2.0",
            "_model_name": "LayoutModel",
            "_view_count": null,
            "_view_module": "@jupyter-widgets/base",
            "_view_module_version": "1.2.0",
            "_view_name": "LayoutView",
            "align_content": null,
            "align_items": null,
            "align_self": null,
            "border": null,
            "bottom": null,
            "display": null,
            "flex": null,
            "flex_flow": null,
            "grid_area": null,
            "grid_auto_columns": null,
            "grid_auto_flow": null,
            "grid_auto_rows": null,
            "grid_column": null,
            "grid_gap": null,
            "grid_row": null,
            "grid_template_areas": null,
            "grid_template_columns": null,
            "grid_template_rows": null,
            "height": null,
            "justify_content": null,
            "justify_items": null,
            "left": null,
            "margin": null,
            "max_height": null,
            "max_width": null,
            "min_height": null,
            "min_width": null,
            "object_fit": null,
            "object_position": null,
            "order": null,
            "overflow": null,
            "overflow_x": null,
            "overflow_y": null,
            "padding": null,
            "right": null,
            "top": null,
            "visibility": null,
            "width": null
          }
        },
        "c4688b70c87447cc87188b441a2a8dd6": {
          "model_module": "@jupyter-widgets/controls",
          "model_name": "ProgressStyleModel",
          "model_module_version": "1.5.0",
          "state": {
            "_model_module": "@jupyter-widgets/controls",
            "_model_module_version": "1.5.0",
            "_model_name": "ProgressStyleModel",
            "_view_count": null,
            "_view_module": "@jupyter-widgets/base",
            "_view_module_version": "1.2.0",
            "_view_name": "StyleView",
            "bar_color": null,
            "description_width": ""
          }
        },
        "fdd5590b9d1640e58098ce2d22076e63": {
          "model_module": "@jupyter-widgets/base",
          "model_name": "LayoutModel",
          "model_module_version": "1.2.0",
          "state": {
            "_model_module": "@jupyter-widgets/base",
            "_model_module_version": "1.2.0",
            "_model_name": "LayoutModel",
            "_view_count": null,
            "_view_module": "@jupyter-widgets/base",
            "_view_module_version": "1.2.0",
            "_view_name": "LayoutView",
            "align_content": null,
            "align_items": null,
            "align_self": null,
            "border": null,
            "bottom": null,
            "display": null,
            "flex": null,
            "flex_flow": null,
            "grid_area": null,
            "grid_auto_columns": null,
            "grid_auto_flow": null,
            "grid_auto_rows": null,
            "grid_column": null,
            "grid_gap": null,
            "grid_row": null,
            "grid_template_areas": null,
            "grid_template_columns": null,
            "grid_template_rows": null,
            "height": null,
            "justify_content": null,
            "justify_items": null,
            "left": null,
            "margin": null,
            "max_height": null,
            "max_width": null,
            "min_height": null,
            "min_width": null,
            "object_fit": null,
            "object_position": null,
            "order": null,
            "overflow": null,
            "overflow_x": null,
            "overflow_y": null,
            "padding": null,
            "right": null,
            "top": null,
            "visibility": null,
            "width": null
          }
        },
        "208e0536ed2c492b8908bbc7ecb66367": {
          "model_module": "@jupyter-widgets/controls",
          "model_name": "DescriptionStyleModel",
          "model_module_version": "1.5.0",
          "state": {
            "_model_module": "@jupyter-widgets/controls",
            "_model_module_version": "1.5.0",
            "_model_name": "DescriptionStyleModel",
            "_view_count": null,
            "_view_module": "@jupyter-widgets/base",
            "_view_module_version": "1.2.0",
            "_view_name": "StyleView",
            "description_width": ""
          }
        },
        "2ac933c1785344b593399331f8cabf42": {
          "model_module": "@jupyter-widgets/controls",
          "model_name": "HBoxModel",
          "model_module_version": "1.5.0",
          "state": {
            "_dom_classes": [],
            "_model_module": "@jupyter-widgets/controls",
            "_model_module_version": "1.5.0",
            "_model_name": "HBoxModel",
            "_view_count": null,
            "_view_module": "@jupyter-widgets/controls",
            "_view_module_version": "1.5.0",
            "_view_name": "HBoxView",
            "box_style": "",
            "children": [
              "IPY_MODEL_96b3e67c2b444d34bc1b5161f837bd26",
              "IPY_MODEL_ae0ea19dac9442a09a643f7558aaa7d4",
              "IPY_MODEL_af8269b662644acb94795ca278c5d8bf"
            ],
            "layout": "IPY_MODEL_d1b2b278dbf84a18bb96d9d1724ffa08"
          }
        },
        "96b3e67c2b444d34bc1b5161f837bd26": {
          "model_module": "@jupyter-widgets/controls",
          "model_name": "HTMLModel",
          "model_module_version": "1.5.0",
          "state": {
            "_dom_classes": [],
            "_model_module": "@jupyter-widgets/controls",
            "_model_module_version": "1.5.0",
            "_model_name": "HTMLModel",
            "_view_count": null,
            "_view_module": "@jupyter-widgets/controls",
            "_view_module_version": "1.5.0",
            "_view_name": "HTMLView",
            "description": "",
            "description_tooltip": null,
            "layout": "IPY_MODEL_fb45cbc98200483e8ee0d500d2778b30",
            "placeholder": "​",
            "style": "IPY_MODEL_623a5f919ed942c281b8eaf108c5ebf5",
            "value": "100%"
          }
        },
        "ae0ea19dac9442a09a643f7558aaa7d4": {
          "model_module": "@jupyter-widgets/controls",
          "model_name": "FloatProgressModel",
          "model_module_version": "1.5.0",
          "state": {
            "_dom_classes": [],
            "_model_module": "@jupyter-widgets/controls",
            "_model_module_version": "1.5.0",
            "_model_name": "FloatProgressModel",
            "_view_count": null,
            "_view_module": "@jupyter-widgets/controls",
            "_view_module_version": "1.5.0",
            "_view_name": "ProgressView",
            "bar_style": "success",
            "description": "",
            "description_tooltip": null,
            "layout": "IPY_MODEL_e7b134ee41bb459b8c5f751a2ffe9f26",
            "max": 29515,
            "min": 0,
            "orientation": "horizontal",
            "style": "IPY_MODEL_65b5358257ce4147b4efae3922bab232",
            "value": 29515
          }
        },
        "af8269b662644acb94795ca278c5d8bf": {
          "model_module": "@jupyter-widgets/controls",
          "model_name": "HTMLModel",
          "model_module_version": "1.5.0",
          "state": {
            "_dom_classes": [],
            "_model_module": "@jupyter-widgets/controls",
            "_model_module_version": "1.5.0",
            "_model_name": "HTMLModel",
            "_view_count": null,
            "_view_module": "@jupyter-widgets/controls",
            "_view_module_version": "1.5.0",
            "_view_name": "HTMLView",
            "description": "",
            "description_tooltip": null,
            "layout": "IPY_MODEL_7a7ff4ff93854801b583f7a47267d2ef",
            "placeholder": "​",
            "style": "IPY_MODEL_66318a9ace124927ac956b3c6c40d4b6",
            "value": " 29515/29515 [00:00&lt;00:00, 291097.83it/s]"
          }
        },
        "d1b2b278dbf84a18bb96d9d1724ffa08": {
          "model_module": "@jupyter-widgets/base",
          "model_name": "LayoutModel",
          "model_module_version": "1.2.0",
          "state": {
            "_model_module": "@jupyter-widgets/base",
            "_model_module_version": "1.2.0",
            "_model_name": "LayoutModel",
            "_view_count": null,
            "_view_module": "@jupyter-widgets/base",
            "_view_module_version": "1.2.0",
            "_view_name": "LayoutView",
            "align_content": null,
            "align_items": null,
            "align_self": null,
            "border": null,
            "bottom": null,
            "display": null,
            "flex": null,
            "flex_flow": null,
            "grid_area": null,
            "grid_auto_columns": null,
            "grid_auto_flow": null,
            "grid_auto_rows": null,
            "grid_column": null,
            "grid_gap": null,
            "grid_row": null,
            "grid_template_areas": null,
            "grid_template_columns": null,
            "grid_template_rows": null,
            "height": null,
            "justify_content": null,
            "justify_items": null,
            "left": null,
            "margin": null,
            "max_height": null,
            "max_width": null,
            "min_height": null,
            "min_width": null,
            "object_fit": null,
            "object_position": null,
            "order": null,
            "overflow": null,
            "overflow_x": null,
            "overflow_y": null,
            "padding": null,
            "right": null,
            "top": null,
            "visibility": null,
            "width": null
          }
        },
        "fb45cbc98200483e8ee0d500d2778b30": {
          "model_module": "@jupyter-widgets/base",
          "model_name": "LayoutModel",
          "model_module_version": "1.2.0",
          "state": {
            "_model_module": "@jupyter-widgets/base",
            "_model_module_version": "1.2.0",
            "_model_name": "LayoutModel",
            "_view_count": null,
            "_view_module": "@jupyter-widgets/base",
            "_view_module_version": "1.2.0",
            "_view_name": "LayoutView",
            "align_content": null,
            "align_items": null,
            "align_self": null,
            "border": null,
            "bottom": null,
            "display": null,
            "flex": null,
            "flex_flow": null,
            "grid_area": null,
            "grid_auto_columns": null,
            "grid_auto_flow": null,
            "grid_auto_rows": null,
            "grid_column": null,
            "grid_gap": null,
            "grid_row": null,
            "grid_template_areas": null,
            "grid_template_columns": null,
            "grid_template_rows": null,
            "height": null,
            "justify_content": null,
            "justify_items": null,
            "left": null,
            "margin": null,
            "max_height": null,
            "max_width": null,
            "min_height": null,
            "min_width": null,
            "object_fit": null,
            "object_position": null,
            "order": null,
            "overflow": null,
            "overflow_x": null,
            "overflow_y": null,
            "padding": null,
            "right": null,
            "top": null,
            "visibility": null,
            "width": null
          }
        },
        "623a5f919ed942c281b8eaf108c5ebf5": {
          "model_module": "@jupyter-widgets/controls",
          "model_name": "DescriptionStyleModel",
          "model_module_version": "1.5.0",
          "state": {
            "_model_module": "@jupyter-widgets/controls",
            "_model_module_version": "1.5.0",
            "_model_name": "DescriptionStyleModel",
            "_view_count": null,
            "_view_module": "@jupyter-widgets/base",
            "_view_module_version": "1.2.0",
            "_view_name": "StyleView",
            "description_width": ""
          }
        },
        "e7b134ee41bb459b8c5f751a2ffe9f26": {
          "model_module": "@jupyter-widgets/base",
          "model_name": "LayoutModel",
          "model_module_version": "1.2.0",
          "state": {
            "_model_module": "@jupyter-widgets/base",
            "_model_module_version": "1.2.0",
            "_model_name": "LayoutModel",
            "_view_count": null,
            "_view_module": "@jupyter-widgets/base",
            "_view_module_version": "1.2.0",
            "_view_name": "LayoutView",
            "align_content": null,
            "align_items": null,
            "align_self": null,
            "border": null,
            "bottom": null,
            "display": null,
            "flex": null,
            "flex_flow": null,
            "grid_area": null,
            "grid_auto_columns": null,
            "grid_auto_flow": null,
            "grid_auto_rows": null,
            "grid_column": null,
            "grid_gap": null,
            "grid_row": null,
            "grid_template_areas": null,
            "grid_template_columns": null,
            "grid_template_rows": null,
            "height": null,
            "justify_content": null,
            "justify_items": null,
            "left": null,
            "margin": null,
            "max_height": null,
            "max_width": null,
            "min_height": null,
            "min_width": null,
            "object_fit": null,
            "object_position": null,
            "order": null,
            "overflow": null,
            "overflow_x": null,
            "overflow_y": null,
            "padding": null,
            "right": null,
            "top": null,
            "visibility": null,
            "width": null
          }
        },
        "65b5358257ce4147b4efae3922bab232": {
          "model_module": "@jupyter-widgets/controls",
          "model_name": "ProgressStyleModel",
          "model_module_version": "1.5.0",
          "state": {
            "_model_module": "@jupyter-widgets/controls",
            "_model_module_version": "1.5.0",
            "_model_name": "ProgressStyleModel",
            "_view_count": null,
            "_view_module": "@jupyter-widgets/base",
            "_view_module_version": "1.2.0",
            "_view_name": "StyleView",
            "bar_color": null,
            "description_width": ""
          }
        },
        "7a7ff4ff93854801b583f7a47267d2ef": {
          "model_module": "@jupyter-widgets/base",
          "model_name": "LayoutModel",
          "model_module_version": "1.2.0",
          "state": {
            "_model_module": "@jupyter-widgets/base",
            "_model_module_version": "1.2.0",
            "_model_name": "LayoutModel",
            "_view_count": null,
            "_view_module": "@jupyter-widgets/base",
            "_view_module_version": "1.2.0",
            "_view_name": "LayoutView",
            "align_content": null,
            "align_items": null,
            "align_self": null,
            "border": null,
            "bottom": null,
            "display": null,
            "flex": null,
            "flex_flow": null,
            "grid_area": null,
            "grid_auto_columns": null,
            "grid_auto_flow": null,
            "grid_auto_rows": null,
            "grid_column": null,
            "grid_gap": null,
            "grid_row": null,
            "grid_template_areas": null,
            "grid_template_columns": null,
            "grid_template_rows": null,
            "height": null,
            "justify_content": null,
            "justify_items": null,
            "left": null,
            "margin": null,
            "max_height": null,
            "max_width": null,
            "min_height": null,
            "min_width": null,
            "object_fit": null,
            "object_position": null,
            "order": null,
            "overflow": null,
            "overflow_x": null,
            "overflow_y": null,
            "padding": null,
            "right": null,
            "top": null,
            "visibility": null,
            "width": null
          }
        },
        "66318a9ace124927ac956b3c6c40d4b6": {
          "model_module": "@jupyter-widgets/controls",
          "model_name": "DescriptionStyleModel",
          "model_module_version": "1.5.0",
          "state": {
            "_model_module": "@jupyter-widgets/controls",
            "_model_module_version": "1.5.0",
            "_model_name": "DescriptionStyleModel",
            "_view_count": null,
            "_view_module": "@jupyter-widgets/base",
            "_view_module_version": "1.2.0",
            "_view_name": "StyleView",
            "description_width": ""
          }
        },
        "27079668fe954a04b8f0e782f47945cf": {
          "model_module": "@jupyter-widgets/controls",
          "model_name": "HBoxModel",
          "model_module_version": "1.5.0",
          "state": {
            "_dom_classes": [],
            "_model_module": "@jupyter-widgets/controls",
            "_model_module_version": "1.5.0",
            "_model_name": "HBoxModel",
            "_view_count": null,
            "_view_module": "@jupyter-widgets/controls",
            "_view_module_version": "1.5.0",
            "_view_name": "HBoxView",
            "box_style": "",
            "children": [
              "IPY_MODEL_e84f2c7d164744fa977e2bf349a58fdd",
              "IPY_MODEL_49ea0bd86c4046e7933293d9c4c46312",
              "IPY_MODEL_12d0705d8a584e8d9a2e5ab60b80a307"
            ],
            "layout": "IPY_MODEL_f73ba7ccdd054588a1e243c2604de15f"
          }
        },
        "e84f2c7d164744fa977e2bf349a58fdd": {
          "model_module": "@jupyter-widgets/controls",
          "model_name": "HTMLModel",
          "model_module_version": "1.5.0",
          "state": {
            "_dom_classes": [],
            "_model_module": "@jupyter-widgets/controls",
            "_model_module_version": "1.5.0",
            "_model_name": "HTMLModel",
            "_view_count": null,
            "_view_module": "@jupyter-widgets/controls",
            "_view_module_version": "1.5.0",
            "_view_name": "HTMLView",
            "description": "",
            "description_tooltip": null,
            "layout": "IPY_MODEL_9826ffedae34411787a22dcd65fab8b8",
            "placeholder": "​",
            "style": "IPY_MODEL_402fb8aff2494e80a4fd236daae27c36",
            "value": "100%"
          }
        },
        "49ea0bd86c4046e7933293d9c4c46312": {
          "model_module": "@jupyter-widgets/controls",
          "model_name": "FloatProgressModel",
          "model_module_version": "1.5.0",
          "state": {
            "_dom_classes": [],
            "_model_module": "@jupyter-widgets/controls",
            "_model_module_version": "1.5.0",
            "_model_name": "FloatProgressModel",
            "_view_count": null,
            "_view_module": "@jupyter-widgets/controls",
            "_view_module_version": "1.5.0",
            "_view_name": "ProgressView",
            "bar_style": "success",
            "description": "",
            "description_tooltip": null,
            "layout": "IPY_MODEL_6142d26fa517410e9795ed31c785bb12",
            "max": 4422102,
            "min": 0,
            "orientation": "horizontal",
            "style": "IPY_MODEL_d96bd7c02f464053a2eef6628532771c",
            "value": 4422102
          }
        },
        "12d0705d8a584e8d9a2e5ab60b80a307": {
          "model_module": "@jupyter-widgets/controls",
          "model_name": "HTMLModel",
          "model_module_version": "1.5.0",
          "state": {
            "_dom_classes": [],
            "_model_module": "@jupyter-widgets/controls",
            "_model_module_version": "1.5.0",
            "_model_name": "HTMLModel",
            "_view_count": null,
            "_view_module": "@jupyter-widgets/controls",
            "_view_module_version": "1.5.0",
            "_view_name": "HTMLView",
            "description": "",
            "description_tooltip": null,
            "layout": "IPY_MODEL_e4cce86e767242ee97adff56ed900ef4",
            "placeholder": "​",
            "style": "IPY_MODEL_a2656c23b53543bd9dbc4386d79ea0f4",
            "value": " 4422102/4422102 [00:00&lt;00:00, 5925076.45it/s]"
          }
        },
        "f73ba7ccdd054588a1e243c2604de15f": {
          "model_module": "@jupyter-widgets/base",
          "model_name": "LayoutModel",
          "model_module_version": "1.2.0",
          "state": {
            "_model_module": "@jupyter-widgets/base",
            "_model_module_version": "1.2.0",
            "_model_name": "LayoutModel",
            "_view_count": null,
            "_view_module": "@jupyter-widgets/base",
            "_view_module_version": "1.2.0",
            "_view_name": "LayoutView",
            "align_content": null,
            "align_items": null,
            "align_self": null,
            "border": null,
            "bottom": null,
            "display": null,
            "flex": null,
            "flex_flow": null,
            "grid_area": null,
            "grid_auto_columns": null,
            "grid_auto_flow": null,
            "grid_auto_rows": null,
            "grid_column": null,
            "grid_gap": null,
            "grid_row": null,
            "grid_template_areas": null,
            "grid_template_columns": null,
            "grid_template_rows": null,
            "height": null,
            "justify_content": null,
            "justify_items": null,
            "left": null,
            "margin": null,
            "max_height": null,
            "max_width": null,
            "min_height": null,
            "min_width": null,
            "object_fit": null,
            "object_position": null,
            "order": null,
            "overflow": null,
            "overflow_x": null,
            "overflow_y": null,
            "padding": null,
            "right": null,
            "top": null,
            "visibility": null,
            "width": null
          }
        },
        "9826ffedae34411787a22dcd65fab8b8": {
          "model_module": "@jupyter-widgets/base",
          "model_name": "LayoutModel",
          "model_module_version": "1.2.0",
          "state": {
            "_model_module": "@jupyter-widgets/base",
            "_model_module_version": "1.2.0",
            "_model_name": "LayoutModel",
            "_view_count": null,
            "_view_module": "@jupyter-widgets/base",
            "_view_module_version": "1.2.0",
            "_view_name": "LayoutView",
            "align_content": null,
            "align_items": null,
            "align_self": null,
            "border": null,
            "bottom": null,
            "display": null,
            "flex": null,
            "flex_flow": null,
            "grid_area": null,
            "grid_auto_columns": null,
            "grid_auto_flow": null,
            "grid_auto_rows": null,
            "grid_column": null,
            "grid_gap": null,
            "grid_row": null,
            "grid_template_areas": null,
            "grid_template_columns": null,
            "grid_template_rows": null,
            "height": null,
            "justify_content": null,
            "justify_items": null,
            "left": null,
            "margin": null,
            "max_height": null,
            "max_width": null,
            "min_height": null,
            "min_width": null,
            "object_fit": null,
            "object_position": null,
            "order": null,
            "overflow": null,
            "overflow_x": null,
            "overflow_y": null,
            "padding": null,
            "right": null,
            "top": null,
            "visibility": null,
            "width": null
          }
        },
        "402fb8aff2494e80a4fd236daae27c36": {
          "model_module": "@jupyter-widgets/controls",
          "model_name": "DescriptionStyleModel",
          "model_module_version": "1.5.0",
          "state": {
            "_model_module": "@jupyter-widgets/controls",
            "_model_module_version": "1.5.0",
            "_model_name": "DescriptionStyleModel",
            "_view_count": null,
            "_view_module": "@jupyter-widgets/base",
            "_view_module_version": "1.2.0",
            "_view_name": "StyleView",
            "description_width": ""
          }
        },
        "6142d26fa517410e9795ed31c785bb12": {
          "model_module": "@jupyter-widgets/base",
          "model_name": "LayoutModel",
          "model_module_version": "1.2.0",
          "state": {
            "_model_module": "@jupyter-widgets/base",
            "_model_module_version": "1.2.0",
            "_model_name": "LayoutModel",
            "_view_count": null,
            "_view_module": "@jupyter-widgets/base",
            "_view_module_version": "1.2.0",
            "_view_name": "LayoutView",
            "align_content": null,
            "align_items": null,
            "align_self": null,
            "border": null,
            "bottom": null,
            "display": null,
            "flex": null,
            "flex_flow": null,
            "grid_area": null,
            "grid_auto_columns": null,
            "grid_auto_flow": null,
            "grid_auto_rows": null,
            "grid_column": null,
            "grid_gap": null,
            "grid_row": null,
            "grid_template_areas": null,
            "grid_template_columns": null,
            "grid_template_rows": null,
            "height": null,
            "justify_content": null,
            "justify_items": null,
            "left": null,
            "margin": null,
            "max_height": null,
            "max_width": null,
            "min_height": null,
            "min_width": null,
            "object_fit": null,
            "object_position": null,
            "order": null,
            "overflow": null,
            "overflow_x": null,
            "overflow_y": null,
            "padding": null,
            "right": null,
            "top": null,
            "visibility": null,
            "width": null
          }
        },
        "d96bd7c02f464053a2eef6628532771c": {
          "model_module": "@jupyter-widgets/controls",
          "model_name": "ProgressStyleModel",
          "model_module_version": "1.5.0",
          "state": {
            "_model_module": "@jupyter-widgets/controls",
            "_model_module_version": "1.5.0",
            "_model_name": "ProgressStyleModel",
            "_view_count": null,
            "_view_module": "@jupyter-widgets/base",
            "_view_module_version": "1.2.0",
            "_view_name": "StyleView",
            "bar_color": null,
            "description_width": ""
          }
        },
        "e4cce86e767242ee97adff56ed900ef4": {
          "model_module": "@jupyter-widgets/base",
          "model_name": "LayoutModel",
          "model_module_version": "1.2.0",
          "state": {
            "_model_module": "@jupyter-widgets/base",
            "_model_module_version": "1.2.0",
            "_model_name": "LayoutModel",
            "_view_count": null,
            "_view_module": "@jupyter-widgets/base",
            "_view_module_version": "1.2.0",
            "_view_name": "LayoutView",
            "align_content": null,
            "align_items": null,
            "align_self": null,
            "border": null,
            "bottom": null,
            "display": null,
            "flex": null,
            "flex_flow": null,
            "grid_area": null,
            "grid_auto_columns": null,
            "grid_auto_flow": null,
            "grid_auto_rows": null,
            "grid_column": null,
            "grid_gap": null,
            "grid_row": null,
            "grid_template_areas": null,
            "grid_template_columns": null,
            "grid_template_rows": null,
            "height": null,
            "justify_content": null,
            "justify_items": null,
            "left": null,
            "margin": null,
            "max_height": null,
            "max_width": null,
            "min_height": null,
            "min_width": null,
            "object_fit": null,
            "object_position": null,
            "order": null,
            "overflow": null,
            "overflow_x": null,
            "overflow_y": null,
            "padding": null,
            "right": null,
            "top": null,
            "visibility": null,
            "width": null
          }
        },
        "a2656c23b53543bd9dbc4386d79ea0f4": {
          "model_module": "@jupyter-widgets/controls",
          "model_name": "DescriptionStyleModel",
          "model_module_version": "1.5.0",
          "state": {
            "_model_module": "@jupyter-widgets/controls",
            "_model_module_version": "1.5.0",
            "_model_name": "DescriptionStyleModel",
            "_view_count": null,
            "_view_module": "@jupyter-widgets/base",
            "_view_module_version": "1.2.0",
            "_view_name": "StyleView",
            "description_width": ""
          }
        },
        "82e9e8ea2d4942cdb805cce9066aadf3": {
          "model_module": "@jupyter-widgets/controls",
          "model_name": "HBoxModel",
          "model_module_version": "1.5.0",
          "state": {
            "_dom_classes": [],
            "_model_module": "@jupyter-widgets/controls",
            "_model_module_version": "1.5.0",
            "_model_name": "HBoxModel",
            "_view_count": null,
            "_view_module": "@jupyter-widgets/controls",
            "_view_module_version": "1.5.0",
            "_view_name": "HBoxView",
            "box_style": "",
            "children": [
              "IPY_MODEL_556c0039630a4a359edfa46dc2877a2c",
              "IPY_MODEL_b6401b4b1d114536aa9087fbebcb7f3b",
              "IPY_MODEL_d09d8bd802e2496ba16207ee01a6c13c"
            ],
            "layout": "IPY_MODEL_ee22ef9fffb74e07a94199b4c18de4bf"
          }
        },
        "556c0039630a4a359edfa46dc2877a2c": {
          "model_module": "@jupyter-widgets/controls",
          "model_name": "HTMLModel",
          "model_module_version": "1.5.0",
          "state": {
            "_dom_classes": [],
            "_model_module": "@jupyter-widgets/controls",
            "_model_module_version": "1.5.0",
            "_model_name": "HTMLModel",
            "_view_count": null,
            "_view_module": "@jupyter-widgets/controls",
            "_view_module_version": "1.5.0",
            "_view_name": "HTMLView",
            "description": "",
            "description_tooltip": null,
            "layout": "IPY_MODEL_397c982eb935466fada24dfec93c38e4",
            "placeholder": "​",
            "style": "IPY_MODEL_6a393ee3b691491aaa056e3d0d4025e9",
            "value": "100%"
          }
        },
        "b6401b4b1d114536aa9087fbebcb7f3b": {
          "model_module": "@jupyter-widgets/controls",
          "model_name": "FloatProgressModel",
          "model_module_version": "1.5.0",
          "state": {
            "_dom_classes": [],
            "_model_module": "@jupyter-widgets/controls",
            "_model_module_version": "1.5.0",
            "_model_name": "FloatProgressModel",
            "_view_count": null,
            "_view_module": "@jupyter-widgets/controls",
            "_view_module_version": "1.5.0",
            "_view_name": "ProgressView",
            "bar_style": "success",
            "description": "",
            "description_tooltip": null,
            "layout": "IPY_MODEL_cbae2d5b7938418c84f2e5a99ff238ba",
            "max": 5148,
            "min": 0,
            "orientation": "horizontal",
            "style": "IPY_MODEL_ce3ceb0f4ff7479e8a43fbc9e47509b9",
            "value": 5148
          }
        },
        "d09d8bd802e2496ba16207ee01a6c13c": {
          "model_module": "@jupyter-widgets/controls",
          "model_name": "HTMLModel",
          "model_module_version": "1.5.0",
          "state": {
            "_dom_classes": [],
            "_model_module": "@jupyter-widgets/controls",
            "_model_module_version": "1.5.0",
            "_model_name": "HTMLModel",
            "_view_count": null,
            "_view_module": "@jupyter-widgets/controls",
            "_view_module_version": "1.5.0",
            "_view_name": "HTMLView",
            "description": "",
            "description_tooltip": null,
            "layout": "IPY_MODEL_a49de93ca26a472db3df27ccf9aa1431",
            "placeholder": "​",
            "style": "IPY_MODEL_ad39062d722b421188900ab204b5e01d",
            "value": " 5148/5148 [00:00&lt;00:00, 76421.48it/s]"
          }
        },
        "ee22ef9fffb74e07a94199b4c18de4bf": {
          "model_module": "@jupyter-widgets/base",
          "model_name": "LayoutModel",
          "model_module_version": "1.2.0",
          "state": {
            "_model_module": "@jupyter-widgets/base",
            "_model_module_version": "1.2.0",
            "_model_name": "LayoutModel",
            "_view_count": null,
            "_view_module": "@jupyter-widgets/base",
            "_view_module_version": "1.2.0",
            "_view_name": "LayoutView",
            "align_content": null,
            "align_items": null,
            "align_self": null,
            "border": null,
            "bottom": null,
            "display": null,
            "flex": null,
            "flex_flow": null,
            "grid_area": null,
            "grid_auto_columns": null,
            "grid_auto_flow": null,
            "grid_auto_rows": null,
            "grid_column": null,
            "grid_gap": null,
            "grid_row": null,
            "grid_template_areas": null,
            "grid_template_columns": null,
            "grid_template_rows": null,
            "height": null,
            "justify_content": null,
            "justify_items": null,
            "left": null,
            "margin": null,
            "max_height": null,
            "max_width": null,
            "min_height": null,
            "min_width": null,
            "object_fit": null,
            "object_position": null,
            "order": null,
            "overflow": null,
            "overflow_x": null,
            "overflow_y": null,
            "padding": null,
            "right": null,
            "top": null,
            "visibility": null,
            "width": null
          }
        },
        "397c982eb935466fada24dfec93c38e4": {
          "model_module": "@jupyter-widgets/base",
          "model_name": "LayoutModel",
          "model_module_version": "1.2.0",
          "state": {
            "_model_module": "@jupyter-widgets/base",
            "_model_module_version": "1.2.0",
            "_model_name": "LayoutModel",
            "_view_count": null,
            "_view_module": "@jupyter-widgets/base",
            "_view_module_version": "1.2.0",
            "_view_name": "LayoutView",
            "align_content": null,
            "align_items": null,
            "align_self": null,
            "border": null,
            "bottom": null,
            "display": null,
            "flex": null,
            "flex_flow": null,
            "grid_area": null,
            "grid_auto_columns": null,
            "grid_auto_flow": null,
            "grid_auto_rows": null,
            "grid_column": null,
            "grid_gap": null,
            "grid_row": null,
            "grid_template_areas": null,
            "grid_template_columns": null,
            "grid_template_rows": null,
            "height": null,
            "justify_content": null,
            "justify_items": null,
            "left": null,
            "margin": null,
            "max_height": null,
            "max_width": null,
            "min_height": null,
            "min_width": null,
            "object_fit": null,
            "object_position": null,
            "order": null,
            "overflow": null,
            "overflow_x": null,
            "overflow_y": null,
            "padding": null,
            "right": null,
            "top": null,
            "visibility": null,
            "width": null
          }
        },
        "6a393ee3b691491aaa056e3d0d4025e9": {
          "model_module": "@jupyter-widgets/controls",
          "model_name": "DescriptionStyleModel",
          "model_module_version": "1.5.0",
          "state": {
            "_model_module": "@jupyter-widgets/controls",
            "_model_module_version": "1.5.0",
            "_model_name": "DescriptionStyleModel",
            "_view_count": null,
            "_view_module": "@jupyter-widgets/base",
            "_view_module_version": "1.2.0",
            "_view_name": "StyleView",
            "description_width": ""
          }
        },
        "cbae2d5b7938418c84f2e5a99ff238ba": {
          "model_module": "@jupyter-widgets/base",
          "model_name": "LayoutModel",
          "model_module_version": "1.2.0",
          "state": {
            "_model_module": "@jupyter-widgets/base",
            "_model_module_version": "1.2.0",
            "_model_name": "LayoutModel",
            "_view_count": null,
            "_view_module": "@jupyter-widgets/base",
            "_view_module_version": "1.2.0",
            "_view_name": "LayoutView",
            "align_content": null,
            "align_items": null,
            "align_self": null,
            "border": null,
            "bottom": null,
            "display": null,
            "flex": null,
            "flex_flow": null,
            "grid_area": null,
            "grid_auto_columns": null,
            "grid_auto_flow": null,
            "grid_auto_rows": null,
            "grid_column": null,
            "grid_gap": null,
            "grid_row": null,
            "grid_template_areas": null,
            "grid_template_columns": null,
            "grid_template_rows": null,
            "height": null,
            "justify_content": null,
            "justify_items": null,
            "left": null,
            "margin": null,
            "max_height": null,
            "max_width": null,
            "min_height": null,
            "min_width": null,
            "object_fit": null,
            "object_position": null,
            "order": null,
            "overflow": null,
            "overflow_x": null,
            "overflow_y": null,
            "padding": null,
            "right": null,
            "top": null,
            "visibility": null,
            "width": null
          }
        },
        "ce3ceb0f4ff7479e8a43fbc9e47509b9": {
          "model_module": "@jupyter-widgets/controls",
          "model_name": "ProgressStyleModel",
          "model_module_version": "1.5.0",
          "state": {
            "_model_module": "@jupyter-widgets/controls",
            "_model_module_version": "1.5.0",
            "_model_name": "ProgressStyleModel",
            "_view_count": null,
            "_view_module": "@jupyter-widgets/base",
            "_view_module_version": "1.2.0",
            "_view_name": "StyleView",
            "bar_color": null,
            "description_width": ""
          }
        },
        "a49de93ca26a472db3df27ccf9aa1431": {
          "model_module": "@jupyter-widgets/base",
          "model_name": "LayoutModel",
          "model_module_version": "1.2.0",
          "state": {
            "_model_module": "@jupyter-widgets/base",
            "_model_module_version": "1.2.0",
            "_model_name": "LayoutModel",
            "_view_count": null,
            "_view_module": "@jupyter-widgets/base",
            "_view_module_version": "1.2.0",
            "_view_name": "LayoutView",
            "align_content": null,
            "align_items": null,
            "align_self": null,
            "border": null,
            "bottom": null,
            "display": null,
            "flex": null,
            "flex_flow": null,
            "grid_area": null,
            "grid_auto_columns": null,
            "grid_auto_flow": null,
            "grid_auto_rows": null,
            "grid_column": null,
            "grid_gap": null,
            "grid_row": null,
            "grid_template_areas": null,
            "grid_template_columns": null,
            "grid_template_rows": null,
            "height": null,
            "justify_content": null,
            "justify_items": null,
            "left": null,
            "margin": null,
            "max_height": null,
            "max_width": null,
            "min_height": null,
            "min_width": null,
            "object_fit": null,
            "object_position": null,
            "order": null,
            "overflow": null,
            "overflow_x": null,
            "overflow_y": null,
            "padding": null,
            "right": null,
            "top": null,
            "visibility": null,
            "width": null
          }
        },
        "ad39062d722b421188900ab204b5e01d": {
          "model_module": "@jupyter-widgets/controls",
          "model_name": "DescriptionStyleModel",
          "model_module_version": "1.5.0",
          "state": {
            "_model_module": "@jupyter-widgets/controls",
            "_model_module_version": "1.5.0",
            "_model_name": "DescriptionStyleModel",
            "_view_count": null,
            "_view_module": "@jupyter-widgets/base",
            "_view_module_version": "1.2.0",
            "_view_name": "StyleView",
            "description_width": ""
          }
        }
      }
    }
  },
  "cells": [
    {
      "cell_type": "markdown",
      "metadata": {
        "id": "view-in-github",
        "colab_type": "text"
      },
      "source": [
        "<a href=\"https://colab.research.google.com/github/rkmad/pytorch_experiments/blob/main/PyTorch_FMNIST_tutorial.ipynb\" target=\"_parent\"><img src=\"https://colab.research.google.com/assets/colab-badge.svg\" alt=\"Open In Colab\"/></a>"
      ]
    },
    {
      "cell_type": "markdown",
      "metadata": {
        "id": "gXmCHcwKs6rd"
      },
      "source": [
        "# Validation"
      ]
    },
    {
      "cell_type": "code",
      "metadata": {
        "id": "PzCCniVwNTdp"
      },
      "source": [
        "# Setting seeds to try and ensure we have the same results - this is not guaranteed across PyTorch releases.\n",
        "import torch\n",
        "torch.manual_seed(0)\n",
        "torch.backends.cudnn.deterministic = True\n",
        "torch.backends.cudnn.benchmark = False\n",
        "\n",
        "import numpy as np\n",
        "np.random.seed(0)"
      ],
      "execution_count": null,
      "outputs": []
    },
    {
      "cell_type": "code",
      "metadata": {
        "id": "PCJzXv0OK1Bs",
        "colab": {
          "base_uri": "https://localhost:8080/",
          "height": 443,
          "referenced_widgets": [
            "e26fc83fb5fc4043a41ffc5a70321701",
            "beef67e7ee7c40a5a91708b2b0d8ff8d",
            "a671d530a61e48daadb468810b286973",
            "2e6b8514f10448bbae1fdb7a389c726d",
            "55aa4dc58fca4d22b3d5c65c90877ff5",
            "6a9a9e13f9c545a2a6871981aacdcb6e",
            "5bbc2c018c6b4f3ba7413fd445af5d62",
            "e5c8deee0391486a93cb723295030b52",
            "c4688b70c87447cc87188b441a2a8dd6",
            "fdd5590b9d1640e58098ce2d22076e63",
            "208e0536ed2c492b8908bbc7ecb66367",
            "2ac933c1785344b593399331f8cabf42",
            "96b3e67c2b444d34bc1b5161f837bd26",
            "ae0ea19dac9442a09a643f7558aaa7d4",
            "af8269b662644acb94795ca278c5d8bf",
            "d1b2b278dbf84a18bb96d9d1724ffa08",
            "fb45cbc98200483e8ee0d500d2778b30",
            "623a5f919ed942c281b8eaf108c5ebf5",
            "e7b134ee41bb459b8c5f751a2ffe9f26",
            "65b5358257ce4147b4efae3922bab232",
            "7a7ff4ff93854801b583f7a47267d2ef",
            "66318a9ace124927ac956b3c6c40d4b6",
            "27079668fe954a04b8f0e782f47945cf",
            "e84f2c7d164744fa977e2bf349a58fdd",
            "49ea0bd86c4046e7933293d9c4c46312",
            "12d0705d8a584e8d9a2e5ab60b80a307",
            "f73ba7ccdd054588a1e243c2604de15f",
            "9826ffedae34411787a22dcd65fab8b8",
            "402fb8aff2494e80a4fd236daae27c36",
            "6142d26fa517410e9795ed31c785bb12",
            "d96bd7c02f464053a2eef6628532771c",
            "e4cce86e767242ee97adff56ed900ef4",
            "a2656c23b53543bd9dbc4386d79ea0f4",
            "82e9e8ea2d4942cdb805cce9066aadf3",
            "556c0039630a4a359edfa46dc2877a2c",
            "b6401b4b1d114536aa9087fbebcb7f3b",
            "d09d8bd802e2496ba16207ee01a6c13c",
            "ee22ef9fffb74e07a94199b4c18de4bf",
            "397c982eb935466fada24dfec93c38e4",
            "6a393ee3b691491aaa056e3d0d4025e9",
            "cbae2d5b7938418c84f2e5a99ff238ba",
            "ce3ceb0f4ff7479e8a43fbc9e47509b9",
            "a49de93ca26a472db3df27ccf9aa1431",
            "ad39062d722b421188900ab204b5e01d"
          ]
        },
        "outputId": "2393fd4e-e94b-45b2-fd71-3b731b2c6034"
      },
      "source": [
        "from torchvision import datasets, transforms\n",
        "import torch.nn.functional as F\n",
        "from torch import nn\n",
        "\n",
        "mean, std = (0.5,), (0.5,)\n",
        "\n",
        "# Create a transform and normalise data\n",
        "transform = transforms.Compose([transforms.ToTensor(),transforms.Normalize(mean, std)])\n",
        "\n",
        "# Download FMNIST training dataset and load training data\n",
        "trainset = datasets.FashionMNIST('~/.pytorch/FMNIST/', download=True, train=True, transform=transform)\n",
        "trainloader = torch.utils.data.DataLoader(trainset, batch_size=64, shuffle=True)\n",
        "\n",
        "# Download FMNIST test dataset and load test data\n",
        "testset = datasets.FashionMNIST('~/.pytorch/FMNIST/', download=True, train=False, transform=transform)\n",
        "testloader = torch.utils.data.DataLoader(testset, batch_size=64, shuffle=False)"
      ],
      "execution_count": null,
      "outputs": [
        {
          "output_type": "stream",
          "name": "stdout",
          "text": [
            "Downloading http://fashion-mnist.s3-website.eu-central-1.amazonaws.com/train-images-idx3-ubyte.gz\n",
            "Downloading http://fashion-mnist.s3-website.eu-central-1.amazonaws.com/train-images-idx3-ubyte.gz to /root/.pytorch/FMNIST/FashionMNIST/raw/train-images-idx3-ubyte.gz\n"
          ]
        },
        {
          "output_type": "display_data",
          "data": {
            "text/plain": [
              "  0%|          | 0/26421880 [00:00<?, ?it/s]"
            ],
            "application/vnd.jupyter.widget-view+json": {
              "version_major": 2,
              "version_minor": 0,
              "model_id": "e26fc83fb5fc4043a41ffc5a70321701"
            }
          },
          "metadata": {}
        },
        {
          "output_type": "stream",
          "name": "stdout",
          "text": [
            "Extracting /root/.pytorch/FMNIST/FashionMNIST/raw/train-images-idx3-ubyte.gz to /root/.pytorch/FMNIST/FashionMNIST/raw\n",
            "\n",
            "Downloading http://fashion-mnist.s3-website.eu-central-1.amazonaws.com/train-labels-idx1-ubyte.gz\n",
            "Downloading http://fashion-mnist.s3-website.eu-central-1.amazonaws.com/train-labels-idx1-ubyte.gz to /root/.pytorch/FMNIST/FashionMNIST/raw/train-labels-idx1-ubyte.gz\n"
          ]
        },
        {
          "output_type": "display_data",
          "data": {
            "text/plain": [
              "  0%|          | 0/29515 [00:00<?, ?it/s]"
            ],
            "application/vnd.jupyter.widget-view+json": {
              "version_major": 2,
              "version_minor": 0,
              "model_id": "2ac933c1785344b593399331f8cabf42"
            }
          },
          "metadata": {}
        },
        {
          "output_type": "stream",
          "name": "stdout",
          "text": [
            "Extracting /root/.pytorch/FMNIST/FashionMNIST/raw/train-labels-idx1-ubyte.gz to /root/.pytorch/FMNIST/FashionMNIST/raw\n",
            "\n",
            "Downloading http://fashion-mnist.s3-website.eu-central-1.amazonaws.com/t10k-images-idx3-ubyte.gz\n",
            "Downloading http://fashion-mnist.s3-website.eu-central-1.amazonaws.com/t10k-images-idx3-ubyte.gz to /root/.pytorch/FMNIST/FashionMNIST/raw/t10k-images-idx3-ubyte.gz\n"
          ]
        },
        {
          "output_type": "display_data",
          "data": {
            "text/plain": [
              "  0%|          | 0/4422102 [00:00<?, ?it/s]"
            ],
            "application/vnd.jupyter.widget-view+json": {
              "version_major": 2,
              "version_minor": 0,
              "model_id": "27079668fe954a04b8f0e782f47945cf"
            }
          },
          "metadata": {}
        },
        {
          "output_type": "stream",
          "name": "stdout",
          "text": [
            "Extracting /root/.pytorch/FMNIST/FashionMNIST/raw/t10k-images-idx3-ubyte.gz to /root/.pytorch/FMNIST/FashionMNIST/raw\n",
            "\n",
            "Downloading http://fashion-mnist.s3-website.eu-central-1.amazonaws.com/t10k-labels-idx1-ubyte.gz\n",
            "Downloading http://fashion-mnist.s3-website.eu-central-1.amazonaws.com/t10k-labels-idx1-ubyte.gz to /root/.pytorch/FMNIST/FashionMNIST/raw/t10k-labels-idx1-ubyte.gz\n"
          ]
        },
        {
          "output_type": "display_data",
          "data": {
            "text/plain": [
              "  0%|          | 0/5148 [00:00<?, ?it/s]"
            ],
            "application/vnd.jupyter.widget-view+json": {
              "version_major": 2,
              "version_minor": 0,
              "model_id": "82e9e8ea2d4942cdb805cce9066aadf3"
            }
          },
          "metadata": {}
        },
        {
          "output_type": "stream",
          "name": "stdout",
          "text": [
            "Extracting /root/.pytorch/FMNIST/FashionMNIST/raw/t10k-labels-idx1-ubyte.gz to /root/.pytorch/FMNIST/FashionMNIST/raw\n",
            "\n"
          ]
        }
      ]
    },
    {
      "cell_type": "code",
      "metadata": {
        "id": "rqMqFbIVrbFH"
      },
      "source": [
        "class FMNIST(nn.Module):\n",
        "  def __init__(self):\n",
        "    super().__init__()\n",
        "    self.fc1 = nn.Linear(784, 128)\n",
        "    self.fc2 = nn.Linear(128,64)\n",
        "    self.fc3 = nn.Linear(64,10)\n",
        "\n",
        "  def forward(self, x):\n",
        "    x = x.view(x.shape[0], -1)\n",
        "\n",
        "    x = F.relu(self.fc1(x))\n",
        "    x = F.relu(self.fc2(x))\n",
        "    x = self.fc3(x)\n",
        "    x = F.log_softmax(x, dim=1)\n",
        "\n",
        "    return x\n",
        "\n",
        "model = FMNIST()"
      ],
      "execution_count": null,
      "outputs": []
    },
    {
      "cell_type": "code",
      "metadata": {
        "id": "oNNyI5YRZ7H1",
        "colab": {
          "base_uri": "https://localhost:8080/"
        },
        "outputId": "e029bf45-96f4-48f6-dc46-d9e0ee653c7c"
      },
      "source": [
        "from torch import optim\n",
        "\n",
        "criterion = nn.NLLLoss()\n",
        "optimizer = optim.SGD(model.parameters(), lr=0.01)\n",
        "\n",
        "num_epochs = 3\n",
        "\n",
        "for i in range(num_epochs):\n",
        "    cum_loss = 0\n",
        "\n",
        "    for images, labels in trainloader:\n",
        "        optimizer.zero_grad()\n",
        "        output = model(images)\n",
        "        loss = criterion(output, labels)\n",
        "        loss.backward()\n",
        "        optimizer.step()\n",
        "\n",
        "        cum_loss += loss.item()\n",
        "\n",
        "    print(f\"Training loss: {cum_loss/len(trainloader)}\")"
      ],
      "execution_count": null,
      "outputs": [
        {
          "output_type": "stream",
          "name": "stdout",
          "text": [
            "Training loss: 1.0341349944059275\n",
            "Training loss: 0.5616475172769795\n",
            "Training loss: 0.4920067817036277\n"
          ]
        }
      ]
    },
    {
      "cell_type": "code",
      "metadata": {
        "id": "UWYw7ZOzsS8U"
      },
      "source": [
        "import matplotlib.pyplot as plt\n",
        "%matplotlib inline\n",
        "\n",
        "images, labels = next(iter(testloader))\n",
        "\n",
        "test_image_id = 0\n",
        "img = images[test_image_id].view(1, 784)\n",
        "\n",
        "with torch.no_grad():\n",
        "    logps = model(img)"
      ],
      "execution_count": null,
      "outputs": []
    },
    {
      "cell_type": "code",
      "metadata": {
        "id": "2tRjoEDSqY8X",
        "colab": {
          "base_uri": "https://localhost:8080/"
        },
        "outputId": "cb2b7600-ada6-4697-e478-399f8a2ad8a5"
      },
      "source": [
        "ps = torch.exp(logps)\n",
        "ps"
      ],
      "execution_count": null,
      "outputs": [
        {
          "output_type": "execute_result",
          "data": {
            "text/plain": [
              "tensor([[2.3705e-06, 9.4471e-07, 1.3340e-05, 2.6119e-06, 7.0657e-06, 1.0298e-01,\n",
              "         5.9918e-06, 5.1967e-01, 5.0446e-03, 3.7227e-01]])"
            ]
          },
          "metadata": {},
          "execution_count": 6
        }
      ]
    },
    {
      "cell_type": "code",
      "metadata": {
        "id": "dpP_RLV-qkc6",
        "colab": {
          "base_uri": "https://localhost:8080/"
        },
        "outputId": "40f95d24-94fc-4308-c50d-003c3d1b44a8"
      },
      "source": [
        "nps = ps.numpy()[0]\n",
        "nps"
      ],
      "execution_count": null,
      "outputs": [
        {
          "output_type": "execute_result",
          "data": {
            "text/plain": [
              "array([2.37051108e-06, 9.44707267e-07, 1.33398435e-05, 2.61188529e-06,\n",
              "       7.06566880e-06, 1.02978423e-01, 5.99183340e-06, 5.19673884e-01,\n",
              "       5.04460791e-03, 3.72270763e-01], dtype=float32)"
            ]
          },
          "metadata": {},
          "execution_count": 7
        }
      ]
    },
    {
      "cell_type": "code",
      "metadata": {
        "id": "kBf23XrtqrB6",
        "colab": {
          "base_uri": "https://localhost:8080/",
          "height": 332
        },
        "outputId": "9feac8aa-3c44-4b2a-d883-48e43998a8fd"
      },
      "source": [
        "FMNIST_labels = ['T-shirt/top','Trouser','Pullover','Dress','Coat','Sandal','Shirt','Sport Shoes','Bag','Ankle Boots']\n",
        "plt.xticks(np.arange(10),labels=FMNIST_labels,rotation='vertical')\n",
        "plt.bar(np.arange(10), nps)"
      ],
      "execution_count": null,
      "outputs": [
        {
          "output_type": "execute_result",
          "data": {
            "text/plain": [
              "<BarContainer object of 10 artists>"
            ]
          },
          "metadata": {},
          "execution_count": 8
        },
        {
          "output_type": "display_data",
          "data": {
            "text/plain": [
              "<Figure size 432x288 with 1 Axes>"
            ],
            "image/png": "[encoded data removed]"
          },
          "metadata": {
            "needs_background": "light"
          }
        }
      ]
    },
    {
      "cell_type": "code",
      "metadata": {
        "id": "Y7gY5hARpOp4",
        "colab": {
          "base_uri": "https://localhost:8080/",
          "height": 282
        },
        "outputId": "9ab2af37-7036-4998-fa11-f3af2a436ed0"
      },
      "source": [
        "def denormalize(tensor):\n",
        "  tensor = tensor*0.5 + 0.5\n",
        "  return tensor\n",
        "\n",
        "img = img.view(28,-1)\n",
        "img = denormalize(img)\n",
        "plt.imshow(img,cmap='gray')"
      ],
      "execution_count": null,
      "outputs": [
        {
          "output_type": "execute_result",
          "data": {
            "text/plain": [
              "<matplotlib.image.AxesImage at 0x7fc793bbc890>"
            ]
          },
          "metadata": {},
          "execution_count": 9
        },
        {
          "output_type": "display_data",
          "data": {
            "text/plain": [
              "<Figure size 432x288 with 1 Axes>"
            ],
            "image/png": "[encoded data removed]"
          },
          "metadata": {
            "needs_background": "light"
          }
        }
      ]
    },
    {
      "cell_type": "code",
      "metadata": {
        "id": "AxTiil7cXOAz",
        "colab": {
          "base_uri": "https://localhost:8080/"
        },
        "outputId": "5be9e39d-608a-4c58-ef1b-e860bcea3d55"
      },
      "source": [
        "with torch.no_grad():\n",
        "    num_correct = 0\n",
        "    total = 0\n",
        "\n",
        "    cnt = 0\n",
        "    for images, labels in testloader:\n",
        "\n",
        "        logps = model(images)\n",
        "        output = torch.exp(logps)\n",
        "        print(output)\n",
        "        cnt+=1\n",
        "\n",
        "        if cnt > 0:\n",
        "          break"
      ],
      "execution_count": null,
      "outputs": [
        {
          "output_type": "stream",
          "name": "stdout",
          "text": [
            "tensor([[2.3705e-06, 9.4471e-07, 1.3340e-05, 2.6119e-06, 7.0657e-06, 1.0298e-01,\n",
            "         5.9918e-06, 5.1967e-01, 5.0446e-03, 3.7227e-01],\n",
            "        [6.9981e-04, 5.7816e-05, 9.5042e-01, 9.1200e-05, 1.4326e-02, 5.8311e-06,\n",
            "         3.4065e-02, 4.7163e-09, 3.3923e-04, 2.0338e-07],\n",
            "        [6.2727e-06, 9.9988e-01, 2.1912e-05, 5.9437e-05, 3.0694e-05, 1.0227e-08,\n",
            "         7.5643e-08, 4.3015e-07, 1.5239e-09, 4.3086e-09],\n",
            "        [1.7003e-06, 9.9970e-01, 2.6613e-05, 2.4829e-04, 2.4129e-05, 7.6917e-08,\n",
            "         6.2570e-08, 1.9648e-06, 3.7890e-09, 2.5373e-08],\n",
            "        [1.2294e-01, 1.4006e-03, 2.5262e-01, 1.6376e-02, 1.6295e-02, 2.5493e-04,\n",
            "         5.8385e-01, 2.1190e-06, 6.2563e-03, 1.1421e-05],\n",
            "        [8.3738e-04, 9.9299e-01, 6.6346e-04, 1.4449e-03, 4.0054e-03, 2.5665e-07,\n",
            "         4.9611e-05, 3.7858e-06, 4.6079e-07, 1.2054e-07],\n",
            "        [1.3390e-02, 2.5452e-03, 1.0458e-01, 1.2688e-03, 7.5056e-01, 1.3765e-04,\n",
            "         1.2587e-01, 1.6473e-06, 1.6432e-03, 1.1616e-06],\n",
            "        [7.0332e-03, 9.1429e-04, 1.8413e-01, 4.2777e-03, 2.1281e-01, 4.8157e-04,\n",
            "         5.8040e-01, 1.4264e-06, 9.9468e-03, 6.1104e-06],\n",
            "        [1.2459e-02, 8.7699e-03, 3.5232e-02, 3.9675e-02, 6.3245e-03, 6.1342e-01,\n",
            "         1.1479e-02, 2.4442e-01, 2.6752e-02, 1.4716e-03],\n",
            "        [7.5757e-06, 8.3442e-06, 1.1096e-05, 4.3206e-05, 2.4296e-05, 9.4909e-03,\n",
            "         6.0709e-06, 9.8845e-01, 8.8851e-04, 1.0712e-03],\n",
            "        [6.3596e-04, 2.4877e-02, 5.2661e-01, 1.1456e-03, 4.1114e-01, 4.4197e-05,\n",
            "         3.5389e-02, 4.0511e-07, 1.5516e-04, 3.4286e-06],\n",
            "        [1.1064e-04, 8.0308e-05, 1.3961e-03, 1.2836e-04, 4.2674e-04, 6.5588e-01,\n",
            "         3.2527e-04, 2.7444e-01, 1.4912e-02, 5.2303e-02],\n",
            "        [3.8523e-04, 2.8397e-04, 4.9343e-03, 3.5019e-03, 1.9678e-03, 7.5551e-01,\n",
            "         1.0035e-03, 1.2813e-01, 1.0309e-01, 1.1926e-03],\n",
            "        [1.3505e-03, 4.9530e-03, 2.7264e-04, 9.9070e-01, 3.0441e-04, 3.5130e-06,\n",
            "         3.8747e-04, 1.5774e-03, 4.3249e-04, 1.6113e-05],\n",
            "        [3.9609e-04, 1.5378e-04, 3.5341e-02, 6.3321e-04, 8.9611e-01, 5.7422e-06,\n",
            "         6.2648e-02, 2.4873e-07, 4.7071e-03, 2.1531e-06],\n",
            "        [1.1867e-04, 9.8981e-01, 4.1124e-04, 9.2751e-03, 3.5779e-04, 4.2894e-07,\n",
            "         9.6671e-06, 1.1628e-05, 2.4094e-07, 2.4625e-07],\n",
            "        [6.0511e-02, 1.5989e-02, 8.0606e-01, 5.1004e-03, 2.1791e-02, 4.8757e-04,\n",
            "         8.9410e-02, 1.4208e-06, 6.4055e-04, 4.9498e-06],\n",
            "        [2.2332e-02, 3.9230e-04, 4.0502e-01, 2.3461e-03, 1.9452e-01, 4.3609e-05,\n",
            "         3.6672e-01, 3.3236e-07, 8.6215e-03, 3.5644e-06],\n",
            "        [5.7988e-04, 7.9218e-06, 4.3608e-03, 7.9063e-05, 2.0115e-03, 7.9304e-03,\n",
            "         2.7317e-03, 2.2389e-03, 9.7812e-01, 1.9367e-03],\n",
            "        [9.4729e-01, 9.4467e-05, 3.2775e-03, 3.0738e-03, 1.0846e-04, 8.1862e-08,\n",
            "         4.6114e-02, 5.3861e-09, 3.6773e-05, 8.2918e-09],\n",
            "        [4.0603e-01, 1.5507e-02, 2.5591e-01, 1.9005e-02, 3.7193e-02, 1.5725e-03,\n",
            "         2.4811e-01, 7.2831e-05, 1.6082e-02, 5.1492e-04],\n",
            "        [2.5609e-05, 7.8931e-05, 3.4975e-04, 2.0766e-04, 2.9549e-04, 2.7841e-01,\n",
            "         5.1509e-05, 7.0810e-01, 8.9098e-03, 3.5703e-03],\n",
            "        [5.0690e-08, 3.3024e-07, 6.9429e-07, 6.5372e-07, 1.3900e-06, 7.0486e-03,\n",
            "         6.9291e-08, 9.8690e-01, 3.2420e-04, 5.7254e-03],\n",
            "        [4.9442e-06, 4.4442e-06, 2.0780e-05, 9.6982e-06, 9.4903e-06, 1.6210e-01,\n",
            "         3.7976e-06, 8.0250e-01, 1.3826e-03, 3.3957e-02],\n",
            "        [1.8518e-06, 9.9976e-01, 1.4864e-05, 2.0018e-04, 1.7823e-05, 8.8913e-08,\n",
            "         3.9286e-08, 4.0386e-06, 4.1547e-09, 2.4551e-08],\n",
            "        [3.8764e-03, 4.1227e-03, 8.8235e-01, 1.1649e-02, 3.4392e-02, 1.9602e-03,\n",
            "         5.7491e-02, 4.6696e-06, 4.1501e-03, 5.5220e-06],\n",
            "        [1.2352e-03, 2.2841e-04, 1.7666e-01, 5.4865e-04, 4.1101e-01, 2.1872e-05,\n",
            "         4.0733e-01, 6.3684e-08, 2.9635e-03, 3.2184e-06],\n",
            "        [4.5879e-01, 3.5483e-02, 1.2073e-02, 4.0189e-01, 3.1572e-02, 2.1182e-07,\n",
            "         6.0003e-02, 3.5460e-06, 1.8109e-04, 3.3181e-07],\n",
            "        [6.0473e-07, 1.4517e-07, 1.8876e-06, 3.4820e-07, 1.6300e-06, 1.4667e-02,\n",
            "         9.7178e-07, 3.8212e-01, 3.4797e-03, 5.9973e-01],\n",
            "        [7.3563e-02, 2.4497e-03, 1.0468e-02, 2.1827e-01, 3.9324e-01, 1.3749e-06,\n",
            "         2.9679e-01, 1.0957e-05, 5.2021e-03, 1.8534e-06],\n",
            "        [5.3314e-06, 1.0825e-07, 1.1946e-04, 1.4766e-05, 5.9795e-04, 6.6810e-04,\n",
            "         1.5897e-04, 2.4305e-04, 9.9807e-01, 1.1772e-04],\n",
            "        [1.3253e-02, 2.6971e-05, 9.4386e-03, 3.8765e-02, 3.0958e-03, 6.7396e-04,\n",
            "         3.1665e-02, 1.0346e-04, 9.0295e-01, 3.1134e-05],\n",
            "        [7.3216e-03, 9.2117e-03, 5.1148e-03, 9.5716e-01, 4.9739e-03, 2.5937e-04,\n",
            "         7.5553e-03, 2.4627e-03, 5.8854e-03, 5.4106e-05],\n",
            "        [5.2764e-02, 9.4422e-04, 2.0132e-02, 8.4581e-01, 8.8468e-03, 6.2001e-07,\n",
            "         6.9613e-02, 4.8384e-06, 1.8801e-03, 3.3058e-07],\n",
            "        [3.2657e-04, 6.5685e-06, 1.2329e-02, 2.6351e-03, 1.3797e-03, 3.1164e-03,\n",
            "         3.3740e-03, 1.6448e-04, 9.7663e-01, 3.8903e-05],\n",
            "        [7.2534e-01, 8.2078e-04, 2.7169e-02, 3.6752e-02, 1.5289e-03, 3.7279e-05,\n",
            "         2.0718e-01, 1.8966e-06, 1.1716e-03, 9.1015e-07],\n",
            "        [1.9666e-06, 8.0220e-06, 3.6482e-06, 8.4609e-06, 1.3905e-05, 5.4759e-03,\n",
            "         1.4548e-06, 9.9253e-01, 2.2220e-04, 1.7340e-03],\n",
            "        [2.4486e-03, 8.8126e-04, 6.4055e-03, 5.0931e-03, 7.8505e-04, 8.7967e-01,\n",
            "         3.4259e-03, 9.2658e-02, 7.4526e-03, 1.1770e-03],\n",
            "        [1.1197e-06, 8.3139e-06, 7.8491e-06, 5.7544e-06, 2.6202e-05, 5.9885e-03,\n",
            "         1.2516e-06, 9.9174e-01, 3.9263e-04, 1.8303e-03],\n",
            "        [5.5725e-08, 1.0689e-08, 1.5781e-07, 1.3172e-08, 8.7085e-08, 2.2568e-03,\n",
            "         1.1730e-07, 3.1161e-02, 3.2884e-04, 9.6625e-01],\n",
            "        [6.5264e-01, 1.3071e-05, 1.8964e-03, 2.6812e-03, 9.1498e-04, 5.8739e-08,\n",
            "         3.4161e-01, 7.3572e-09, 2.4420e-04, 3.7409e-08],\n",
            "        [3.2762e-06, 9.9980e-01, 1.4166e-05, 1.3696e-04, 4.2352e-05, 1.8038e-08,\n",
            "         8.0369e-08, 6.0589e-06, 2.3198e-09, 5.4549e-08],\n",
            "        [1.7853e-01, 8.8841e-03, 6.8978e-02, 2.2797e-01, 2.2204e-01, 2.4244e-06,\n",
            "         2.9071e-01, 1.9636e-06, 2.8842e-03, 3.9417e-07],\n",
            "        [1.4033e-07, 6.5318e-08, 2.8299e-07, 3.6298e-08, 1.5342e-07, 1.2298e-02,\n",
            "         1.0863e-07, 4.4080e-01, 1.3192e-04, 5.4677e-01],\n",
            "        [3.5536e-03, 1.2296e-04, 1.8939e-01, 1.6116e-03, 2.3781e-01, 3.9201e-06,\n",
            "         5.6567e-01, 1.1914e-08, 1.8448e-03, 1.6580e-07],\n",
            "        [3.1361e-04, 6.0481e-05, 6.0556e-04, 2.5756e-04, 1.8434e-04, 3.7187e-01,\n",
            "         4.2237e-04, 5.5262e-01, 1.9593e-02, 5.4071e-02],\n",
            "        [2.3276e-02, 1.0118e-03, 8.0602e-01, 2.6951e-03, 1.9697e-02, 4.4283e-05,\n",
            "         1.4559e-01, 1.0395e-07, 1.6619e-03, 2.7224e-06],\n",
            "        [3.7428e-04, 9.6606e-01, 4.7245e-04, 3.2018e-02, 9.9030e-04, 2.2493e-07,\n",
            "         2.2985e-05, 6.1660e-05, 7.3565e-07, 7.5260e-07],\n",
            "        [1.0368e-03, 3.4910e-02, 6.7831e-01, 9.2611e-03, 2.5371e-01, 3.0113e-04,\n",
            "         2.1685e-02, 4.0932e-06, 7.7530e-04, 4.1568e-06],\n",
            "        [6.4665e-03, 2.4356e-04, 3.0105e-01, 2.3792e-03, 7.8912e-02, 4.5508e-05,\n",
            "         6.0656e-01, 9.0607e-08, 4.3440e-03, 1.9878e-06],\n",
            "        [1.0890e-02, 6.0390e-04, 3.1166e-01, 9.0493e-04, 4.1885e-01, 7.3162e-05,\n",
            "         2.4893e-01, 4.5726e-07, 8.0853e-03, 7.2632e-06],\n",
            "        [4.9880e-03, 1.3173e-03, 8.1366e-01, 2.7576e-03, 3.1298e-02, 1.3144e-03,\n",
            "         1.4253e-01, 8.2245e-07, 2.1393e-03, 1.9549e-06],\n",
            "        [4.0181e-03, 3.9188e-03, 1.2506e-02, 1.1207e-02, 1.3117e-03, 6.9674e-01,\n",
            "         3.4236e-03, 2.5303e-01, 8.2343e-03, 5.6126e-03],\n",
            "        [5.0691e-02, 1.7927e-04, 1.4746e-01, 1.8368e-03, 2.3915e-02, 3.4025e-03,\n",
            "         5.3381e-01, 1.1630e-05, 2.3762e-01, 1.0712e-03],\n",
            "        [8.3299e-03, 4.0669e-02, 6.2239e-01, 2.4041e-02, 2.6627e-01, 4.1405e-05,\n",
            "         3.7162e-02, 1.9260e-06, 1.0903e-03, 1.2670e-06],\n",
            "        [4.5382e-02, 2.0032e-03, 8.8168e-01, 1.7040e-03, 7.7040e-03, 1.1272e-04,\n",
            "         5.9895e-02, 2.3004e-07, 1.5144e-03, 6.4098e-06],\n",
            "        [3.8590e-04, 6.7205e-07, 1.3369e-03, 3.6496e-05, 2.7812e-03, 3.3373e-04,\n",
            "         2.2487e-03, 8.5166e-05, 9.9274e-01, 5.0417e-05],\n",
            "        [4.6312e-04, 5.0013e-04, 5.2147e-01, 1.1374e-03, 3.8249e-01, 2.5180e-05,\n",
            "         9.1991e-02, 1.4821e-07, 1.9262e-03, 1.1639e-06],\n",
            "        [3.1134e-04, 3.9056e-07, 1.0823e-03, 2.2790e-05, 1.0687e-03, 6.3549e-04,\n",
            "         2.0339e-03, 1.5311e-04, 9.9462e-01, 7.2550e-05],\n",
            "        [8.0405e-01, 1.9803e-02, 4.8787e-02, 3.3695e-02, 3.7285e-03, 1.6282e-04,\n",
            "         8.9260e-02, 1.8384e-05, 4.9198e-04, 6.7575e-06],\n",
            "        [8.0014e-07, 1.9031e-06, 2.3722e-06, 4.2966e-06, 3.6952e-06, 7.5598e-03,\n",
            "         6.2556e-07, 9.9101e-01, 1.5386e-04, 1.2590e-03],\n",
            "        [3.0918e-07, 5.7497e-07, 1.9584e-06, 2.3058e-06, 3.4625e-06, 1.4626e-02,\n",
            "         4.5780e-07, 9.7013e-01, 1.2097e-03, 1.4025e-02],\n",
            "        [1.2210e-06, 1.0640e-06, 2.1145e-04, 1.3208e-05, 1.1593e-03, 5.3821e-03,\n",
            "         3.4088e-05, 7.7112e-03, 9.8284e-01, 2.6488e-03],\n",
            "        [6.8196e-04, 1.7838e-04, 2.9350e-03, 7.1424e-04, 3.2119e-04, 9.4965e-01,\n",
            "         1.2796e-03, 3.3596e-02, 7.5155e-03, 3.1300e-03]])\n"
          ]
        }
      ]
    },
    {
      "cell_type": "code",
      "metadata": {
        "id": "6Ij_wa7paveM"
      },
      "source": [
        "with torch.no_grad():\n",
        "    num_correct = 0\n",
        "    total = 0\n",
        "\n",
        "    #set_trace()\n",
        "    for images, labels in testloader:\n",
        "\n",
        "        logps = model(images)\n",
        "        output = torch.exp(logps)\n",
        "\n",
        "        pred = torch.argmax(output, 1)\n",
        "        total += labels.size(0)\n"
      ],
      "execution_count": null,
      "outputs": []
    },
    {
      "cell_type": "code",
      "metadata": {
        "id": "nyxadgAyiRqg",
        "colab": {
          "base_uri": "https://localhost:8080/"
        },
        "outputId": "c12d4244-c2f4-49c4-db1a-3b40cb63bd56"
      },
      "source": [
        "pred, labels"
      ],
      "execution_count": null,
      "outputs": [
        {
          "output_type": "execute_result",
          "data": {
            "text/plain": [
              "(tensor([3, 1, 7, 5, 8, 2, 5, 2, 8, 9, 1, 9, 1, 8, 1, 5]),\n",
              " tensor([3, 2, 7, 5, 8, 4, 5, 6, 8, 9, 1, 9, 1, 8, 1, 5]))"
            ]
          },
          "metadata": {},
          "execution_count": 12
        }
      ]
    },
    {
      "cell_type": "code",
      "metadata": {
        "id": "ojLPwZLdi3OX",
        "colab": {
          "base_uri": "https://localhost:8080/"
        },
        "outputId": "f2ed7999-01f1-4317-c8b8-88ffd7011a87"
      },
      "source": [
        "pred == labels"
      ],
      "execution_count": null,
      "outputs": [
        {
          "output_type": "execute_result",
          "data": {
            "text/plain": [
              "tensor([ True, False,  True,  True,  True, False,  True, False,  True,  True,\n",
              "         True,  True,  True,  True,  True,  True])"
            ]
          },
          "metadata": {},
          "execution_count": 13
        }
      ]
    },
    {
      "cell_type": "code",
      "metadata": {
        "id": "6V-3r9n-iCMb",
        "colab": {
          "base_uri": "https://localhost:8080/"
        },
        "outputId": "f572e1e0-b897-4e27-9dfb-39ed0640bcbb"
      },
      "source": [
        "with torch.no_grad():\n",
        "    num_correct = 0\n",
        "    total = 0\n",
        "\n",
        "    #set_trace()\n",
        "    for images, labels in testloader:\n",
        "\n",
        "        logps = model(images)\n",
        "        output = torch.exp(logps)\n",
        "\n",
        "        pred = torch.argmax(output, 1)\n",
        "        total += labels.size(0)\n",
        "        num_correct += (pred == labels).sum().item()\n",
        "\n",
        "    print(f'Accuracy of the model on the 10000 test images: {num_correct * 100 / total}% ')"
      ],
      "execution_count": null,
      "outputs": [
        {
          "output_type": "stream",
          "name": "stdout",
          "text": [
            "Accuracy of the model on the 10000 test images: 81.72% \n"
          ]
        }
      ]
    },
    {
      "cell_type": "code",
      "metadata": {
        "id": "2VNQH0g6F8xH"
      },
      "source": [],
      "execution_count": null,
      "outputs": []
    }
  ]
}