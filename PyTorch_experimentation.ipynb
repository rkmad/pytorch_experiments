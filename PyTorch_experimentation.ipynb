{
  "nbformat": 4,
  "nbformat_minor": 0,
  "metadata": {
    "accelerator": "GPU",
    "colab": {
      "provenance": [],
      "include_colab_link": true
    },
    "kernelspec": {
      "display_name": "Python 3",
      "language": "python",
      "name": "python3"
    },
    "language_info": {
      "codemirror_mode": {
        "name": "ipython",
        "version": 3
      },
      "file_extension": ".py",
      "mimetype": "text/x-python",
      "name": "python",
      "nbconvert_exporter": "python",
      "pygments_lexer": "ipython3",
      "version": "3.6.8"
    }
  },
  "cells": [
    {
      "cell_type": "markdown",
      "metadata": {
        "id": "view-in-github",
        "colab_type": "text"
      },
      "source": [
        "<a href=\"https://colab.research.google.com/github/rkmad/pytorch_experiments/blob/main/PyTorch_experimentation.ipynb\" target=\"_parent\"><img src=\"https://colab.research.google.com/assets/colab-badge.svg\" alt=\"Open In Colab\"/></a>"
      ]
    },
    {
      "cell_type": "markdown",
      "metadata": {
        "id": "gXmCHcwKs6rd"
      },
      "source": [
        "# PyTorch experimentation with FMNIST dataset"
      ]
    },
    {
      "cell_type": "code",
      "metadata": {
        "id": "PzCCniVwNTdp"
      },
      "source": [
        "# Setting seeds to try and ensure we have the same results - this is not guaranteed across PyTorch releases.\n",
        "import torch\n",
        "torch.manual_seed(0)\n",
        "torch.backends.cudnn.deterministic = True\n",
        "torch.backends.cudnn.benchmark = False\n",
        "\n",
        "import numpy as np\n",
        "np.random.seed(0)"
      ],
      "execution_count": 1,
      "outputs": []
    },
    {
      "cell_type": "code",
      "metadata": {
        "id": "fQLW-HL7_0pT",
        "outputId": "b82fbba0-365f-4aa9-ccb0-d900d8716f39",
        "colab": {
          "base_uri": "https://localhost:8080/"
        }
      },
      "source": [
        "device = torch.device(\"cuda\" if torch.cuda.is_available() else \"cpu\")\n",
        "print(device)\n"
      ],
      "execution_count": 2,
      "outputs": [
        {
          "output_type": "stream",
          "name": "stdout",
          "text": [
            "cuda\n"
          ]
        }
      ]
    },
    {
      "cell_type": "code",
      "metadata": {
        "id": "PCJzXv0OK1Bs",
        "colab": {
          "base_uri": "https://localhost:8080/"
        },
        "outputId": "0bc67881-1b01-436c-ddb7-f41b348c5bf2"
      },
      "source": [
        "from torchvision import datasets, transforms\n",
        "import torch.nn.functional as F\n",
        "from torch import nn\n",
        "\n",
        "mean, std = (0.5,), (0.5,)\n",
        "\n",
        "# Create a transform and normalise data\n",
        "transform = transforms.Compose([transforms.ToTensor(),transforms.Normalize(mean, std)])\n",
        "\n",
        "# Download FMNIST training dataset and load training data\n",
        "trainset = datasets.FashionMNIST('~/.pytorch/FMNIST/', download=True, train=True, transform=transform)\n",
        "trainloader = torch.utils.data.DataLoader(trainset, batch_size=64, shuffle=True)\n",
        "\n",
        "# Download FMNIST test dataset and load test data\n",
        "testset = datasets.FashionMNIST('~/.pytorch/FMNIST/', download=True, train=False, transform=transform)\n",
        "testloader = torch.utils.data.DataLoader(testset, batch_size=64, shuffle=False)"
      ],
      "execution_count": 3,
      "outputs": [
        {
          "output_type": "stream",
          "name": "stdout",
          "text": [
            "Downloading http://fashion-mnist.s3-website.eu-central-1.amazonaws.com/train-images-idx3-ubyte.gz\n",
            "Downloading http://fashion-mnist.s3-website.eu-central-1.amazonaws.com/train-images-idx3-ubyte.gz to /root/.pytorch/FMNIST/FashionMNIST/raw/train-images-idx3-ubyte.gz\n"
          ]
        },
        {
          "output_type": "stream",
          "name": "stderr",
          "text": [
            "100%|██████████| 26421880/26421880 [00:00<00:00, 119850450.51it/s]\n"
          ]
        },
        {
          "output_type": "stream",
          "name": "stdout",
          "text": [
            "Extracting /root/.pytorch/FMNIST/FashionMNIST/raw/train-images-idx3-ubyte.gz to /root/.pytorch/FMNIST/FashionMNIST/raw\n",
            "\n",
            "Downloading http://fashion-mnist.s3-website.eu-central-1.amazonaws.com/train-labels-idx1-ubyte.gz\n",
            "Downloading http://fashion-mnist.s3-website.eu-central-1.amazonaws.com/train-labels-idx1-ubyte.gz to /root/.pytorch/FMNIST/FashionMNIST/raw/train-labels-idx1-ubyte.gz\n"
          ]
        },
        {
          "output_type": "stream",
          "name": "stderr",
          "text": [
            "100%|██████████| 29515/29515 [00:00<00:00, 111627486.53it/s]"
          ]
        },
        {
          "output_type": "stream",
          "name": "stdout",
          "text": [
            "Extracting /root/.pytorch/FMNIST/FashionMNIST/raw/train-labels-idx1-ubyte.gz to /root/.pytorch/FMNIST/FashionMNIST/raw\n",
            "\n",
            "Downloading http://fashion-mnist.s3-website.eu-central-1.amazonaws.com/t10k-images-idx3-ubyte.gz\n",
            "Downloading http://fashion-mnist.s3-website.eu-central-1.amazonaws.com/t10k-images-idx3-ubyte.gz to /root/.pytorch/FMNIST/FashionMNIST/raw/t10k-images-idx3-ubyte.gz\n"
          ]
        },
        {
          "output_type": "stream",
          "name": "stderr",
          "text": [
            "\n",
            "100%|██████████| 4422102/4422102 [00:00<00:00, 68346648.59it/s]\n"
          ]
        },
        {
          "output_type": "stream",
          "name": "stdout",
          "text": [
            "Extracting /root/.pytorch/FMNIST/FashionMNIST/raw/t10k-images-idx3-ubyte.gz to /root/.pytorch/FMNIST/FashionMNIST/raw\n",
            "\n",
            "Downloading http://fashion-mnist.s3-website.eu-central-1.amazonaws.com/t10k-labels-idx1-ubyte.gz\n",
            "Downloading http://fashion-mnist.s3-website.eu-central-1.amazonaws.com/t10k-labels-idx1-ubyte.gz to /root/.pytorch/FMNIST/FashionMNIST/raw/t10k-labels-idx1-ubyte.gz\n"
          ]
        },
        {
          "output_type": "stream",
          "name": "stderr",
          "text": [
            "100%|██████████| 5148/5148 [00:00<00:00, 7100387.04it/s]"
          ]
        },
        {
          "output_type": "stream",
          "name": "stdout",
          "text": [
            "Extracting /root/.pytorch/FMNIST/FashionMNIST/raw/t10k-labels-idx1-ubyte.gz to /root/.pytorch/FMNIST/FashionMNIST/raw\n",
            "\n"
          ]
        },
        {
          "output_type": "stream",
          "name": "stderr",
          "text": [
            "\n"
          ]
        }
      ]
    },
    {
      "cell_type": "code",
      "metadata": {
        "id": "rqMqFbIVrbFH"
      },
      "source": [
        "class FMNIST(nn.Module):\n",
        "  def __init__(self):\n",
        "    super().__init__()\n",
        "    self.fc1 = nn.Linear(784, 128)\n",
        "    self.fc2 = nn.Linear(128,64)\n",
        "    self.fc3 = nn.Linear(64,10)\n",
        "\n",
        "  def forward(self, x):\n",
        "    x = x.view(x.shape[0], -1)\n",
        "\n",
        "    x = F.relu(self.fc1(x))\n",
        "    x = F.relu(self.fc2(x))\n",
        "    x = self.fc3(x)\n",
        "    x = F.log_softmax(x, dim=1)\n",
        "\n",
        "    return x\n",
        "\n",
        "model = FMNIST()"
      ],
      "execution_count": 4,
      "outputs": []
    },
    {
      "cell_type": "code",
      "metadata": {
        "id": "67eZUNEM5b7n",
        "outputId": "7dbfae29-bebd-4060-d7be-cbf96eed35f4",
        "colab": {
          "base_uri": "https://localhost:8080/"
        }
      },
      "source": [
        "model.to(device)"
      ],
      "execution_count": 5,
      "outputs": [
        {
          "output_type": "execute_result",
          "data": {
            "text/plain": [
              "FMNIST(\n",
              "  (fc1): Linear(in_features=784, out_features=128, bias=True)\n",
              "  (fc2): Linear(in_features=128, out_features=64, bias=True)\n",
              "  (fc3): Linear(in_features=64, out_features=10, bias=True)\n",
              ")"
            ]
          },
          "metadata": {},
          "execution_count": 5
        }
      ]
    },
    {
      "cell_type": "markdown",
      "metadata": {
        "id": "XPdDu7KfWEfW"
      },
      "source": [
        "#Track train loss, test loss, and accuracy across epochs\n"
      ]
    },
    {
      "cell_type": "code",
      "metadata": {
        "id": "VJLzWi0UqGWm",
        "outputId": "058e3fb1-75fe-434d-ad48-11e13d054fe9",
        "colab": {
          "base_uri": "https://localhost:8080/"
        }
      },
      "source": [
        "from torch import optim\n",
        "criterion = nn.NLLLoss()\n",
        "optimizer = optim.SGD(model.parameters(), lr=0.01)\n",
        "\n",
        "num_epochs = 30\n",
        "train_tracker, test_tracker, accuracy_tracker = [], [], []\n",
        "\n",
        "for i in range(num_epochs):\n",
        "    cum_loss = 0\n",
        "\n",
        "    for batch, (images, labels) in enumerate(trainloader,1):\n",
        "        images = images.to(device)\n",
        "        labels = labels.to(device)\n",
        "\n",
        "        optimizer.zero_grad()\n",
        "        output = model(images)\n",
        "        loss = criterion(output, labels)\n",
        "        loss.backward()\n",
        "        optimizer.step()\n",
        "\n",
        "        cum_loss += loss.item()\n",
        "\n",
        "    train_tracker.append(cum_loss/len(trainloader))\n",
        "    print(f\"Epoch({i+1}/{num_epochs}) | Train loss: {cum_loss/len(trainloader)} | \",end='')\n",
        "\n",
        "    test_loss = 0\n",
        "    num_correct = 0\n",
        "    total = 0\n",
        "\n",
        "    for batch, (images, labels) in enumerate(testloader,1):\n",
        "        images = images.to(device)\n",
        "        labels = labels.to(device)\n",
        "\n",
        "        logps = model(images)\n",
        "        batch_loss = criterion(logps, labels)\n",
        "        test_loss += batch_loss.item()\n",
        "\n",
        "        output = torch.exp(logps)\n",
        "        pred = torch.argmax(output, 1)\n",
        "        total += labels.size(0)\n",
        "        num_correct += (pred == labels).sum().item()\n",
        "\n",
        "    test_tracker.append(test_loss/len(testloader))\n",
        "    print(f\"Test loss: {test_loss/len(testloader)} | \", end='')\n",
        "    accuracy_tracker.append(num_correct/total)\n",
        "    print(f'Accuracy: {num_correct/total}')\n",
        "print(f'\\nNumber correct : {num_correct}, Total : {total}')\n",
        "print(f'Accuracy of the model after 30 epochs on the 10000 test images: {num_correct * 100 / total}% ')"
      ],
      "execution_count": 6,
      "outputs": [
        {
          "output_type": "stream",
          "name": "stdout",
          "text": [
            "Epoch(1/30) | Train loss: 1.0341349766770405 | Test loss: 0.6526547850696904 | Accuracy : 0.7516\n",
            "Epoch(2/30) | Train loss: 0.5618628569122063 | Test loss: 0.5530102336482637 | Accuracy : 0.8017\n",
            "Epoch(3/30) | Train loss: 0.49154420781618496 | Test loss: 0.5239408477476448 | Accuracy : 0.8075\n",
            "Epoch(4/30) | Train loss: 0.4571522805037529 | Test loss: 0.4832161597575352 | Accuracy : 0.8249\n",
            "Epoch(5/30) | Train loss: 0.4337335761422033 | Test loss: 0.4522694729885478 | Accuracy : 0.8362\n",
            "Epoch(6/30) | Train loss: 0.4154982076747331 | Test loss: 0.47644228388549414 | Accuracy : 0.825\n",
            "Epoch(7/30) | Train loss: 0.4020653751962729 | Test loss: 0.44492712882673663 | Accuracy : 0.8378\n",
            "Epoch(8/30) | Train loss: 0.38920502981016125 | Test loss: 0.4228949540170135 | Accuracy : 0.8486\n",
            "Epoch(9/30) | Train loss: 0.37834086014962653 | Test loss: 0.43029787453116886 | Accuracy : 0.8439\n",
            "Epoch(10/30) | Train loss: 0.370012295589264 | Test loss: 0.4053164839175097 | Accuracy : 0.8527\n",
            "Epoch(11/30) | Train loss: 0.3605259757782859 | Test loss: 0.43598446268944224 | Accuracy : 0.8426\n",
            "Epoch(12/30) | Train loss: 0.3540771295711684 | Test loss: 0.3951594988062124 | Accuracy : 0.8572\n",
            "Epoch(13/30) | Train loss: 0.34624142890800036 | Test loss: 0.39808575087671827 | Accuracy : 0.8592\n",
            "Epoch(14/30) | Train loss: 0.33957928946531657 | Test loss: 0.3814208507537842 | Accuracy : 0.8646\n",
            "Epoch(15/30) | Train loss: 0.33379458828267256 | Test loss: 0.39468010965805905 | Accuracy : 0.8577\n",
            "Epoch(16/30) | Train loss: 0.32754273139146856 | Test loss: 0.39232180651965415 | Accuracy : 0.8574\n",
            "Epoch(17/30) | Train loss: 0.3221026521199929 | Test loss: 0.39236118032294476 | Accuracy : 0.8584\n",
            "Epoch(18/30) | Train loss: 0.3162571233250439 | Test loss: 0.36656263034055186 | Accuracy : 0.867\n",
            "Epoch(19/30) | Train loss: 0.3118167003271168 | Test loss: 0.3680810896074696 | Accuracy : 0.8686\n",
            "Epoch(20/30) | Train loss: 0.30687535136366195 | Test loss: 0.3663778646736388 | Accuracy : 0.8656\n",
            "Epoch(21/30) | Train loss: 0.30176957060437976 | Test loss: 0.37542493774253094 | Accuracy : 0.8648\n",
            "Epoch(22/30) | Train loss: 0.2981593155625787 | Test loss: 0.3592678149984141 | Accuracy : 0.8738\n",
            "Epoch(23/30) | Train loss: 0.2936265906815463 | Test loss: 0.3707810371734534 | Accuracy : 0.8662\n",
            "Epoch(24/30) | Train loss: 0.28964582081637913 | Test loss: 0.3545607399598808 | Accuracy : 0.875\n",
            "Epoch(25/30) | Train loss: 0.28487390911242344 | Test loss: 0.351526390120482 | Accuracy : 0.8737\n",
            "Epoch(26/30) | Train loss: 0.28185039993796523 | Test loss: 0.3655411224741085 | Accuracy : 0.8676\n",
            "Epoch(27/30) | Train loss: 0.27808090914954253 | Test loss: 0.3461884882799379 | Accuracy : 0.8761\n",
            "Epoch(28/30) | Train loss: 0.2738684680003093 | Test loss: 0.3724550692139158 | Accuracy : 0.8673\n",
            "Epoch(29/30) | Train loss: 0.27054056385432734 | Test loss: 0.3603133740508632 | Accuracy : 0.8719\n",
            "Epoch(30/30) | Train loss: 0.2678162008206219 | Test loss: 0.34930419926620593 | Accuracy : 0.8759\n",
            "\n",
            "Number correct : 8759, Total : 10000\n",
            "Accuracy of the model after 30 epochs on the 10000 test images: 87.59% \n"
          ]
        }
      ]
    },
    {
      "cell_type": "markdown",
      "metadata": {
        "id": "IqNpkYO6V9YI"
      },
      "source": [
        "#Conclusions\n",
        "Accuracy increases nearly monotonically over epochs\n",
        "\n",
        "Below, plot train loss, test loss, and accuracy over 30 epochs."
      ]
    },
    {
      "cell_type": "code",
      "metadata": {
        "id": "AJgyMHm2Pvx5",
        "outputId": "66433cac-140c-4e7d-9b7a-058f115b6842",
        "colab": {
          "base_uri": "https://localhost:8080/",
          "height": 447
        }
      },
      "source": [
        "import matplotlib.pyplot as plt\n",
        "%matplotlib inline\n",
        "plt.plot(train_tracker, label='Training loss')\n",
        "plt.plot(test_tracker, label='Test loss')\n",
        "plt.plot(accuracy_tracker, label='Test accuracy')\n",
        "plt.legend()"
      ],
      "execution_count": 7,
      "outputs": [
        {
          "output_type": "execute_result",
          "data": {
            "text/plain": [
              "<matplotlib.legend.Legend at 0x7fa2abf46620>"
            ]
          },
          "metadata": {},
          "execution_count": 7
        },
        {
          "output_type": "display_data",
          "data": {
            "text/plain": [
              "<Figure size 640x480 with 1 Axes>"
            ],
            "image/png": "[encoded data removed]"
          },
          "metadata": {}
        }
      ]
    },
    {
      "cell_type": "markdown",
      "metadata": {
        "id": "APhVglVTk-og"
      },
      "source": [
        "## Further experiments\n",
        "- TEst adding more layers? e.g. https://pytorch.org/docs/master/nn.html#torch.nn.Dropout\n",
        "- Change number of nodes in the layers?\n",
        "- Change number of epochs?"
      ]
    }
  ]
}